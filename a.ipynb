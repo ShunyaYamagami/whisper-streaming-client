{
 "cells": [
  {
   "cell_type": "code",
   "execution_count": null,
   "metadata": {},
   "outputs": [],
   "source": [
    "import json\n",
    "# text = b'0.14, 1.98, \\xe3\\x83\\x8e\\xe3\\x83\\xaa\\xe3\\x83\\x8e\\xe3\\x83\\xaa\\xe3\\x80\\x81\\xe3\\x83\\x8e\\xe3\\x83\\xaa\\xe3\\x83\\x8e\\xe3\\x83\\xaa\\xe3\\x80\\x81\\n'\n",
    "text = b'[{\"start\": 0.14, \"end\": 1.98, \"text\": \"\\xe3\\x83\\x8e\\xe3\\x83\\xaa\\xe3\\x83\\x8e\\xe3\\x83\\xaa\\xe3\\x80\\x81\\xe3\\x83\\x8e\\xe3\\x83\\xaa\\xe3\\x83\\x8e\\xe3\\x83\\xaa\\xe3\\x80\\x81\\n\"}]'\n",
    "decoded_json = text.decode()\n",
    "decoded_json = decoded_json.replace('\\n', '')\n",
    "decoded_json = json.loads(decoded_json)\n",
    "with open('test.txt', 'w') as f:\n",
    "    text = '\\n'.join([d['text'] for d in decoded_json])\n",
    "    f.write(text)"
   ]
  },
  {
   "cell_type": "code",
   "execution_count": null,
   "metadata": {},
   "outputs": [],
   "source": [
    "text = b'[{\"start\": 0.14, \"end\": 1.98, \"text\": \"\\u30ce\\u30ea\\u30ce\\u30ea\\u3001\\u30ce\\u30ea\\u30ce\\u30ea\\u3001\"}]'\n",
    "text = '[{\"start\": 2.86, \"end\": 5.0200000000000005, \"text\": \"\\u3046\\u3093\\u306a\\u306b\\u3084\\u3063\\u3066\\u3093\\u3060\\u3088\\u3053\\u308c\\u3002\"}]'\n",
    "text = '[{\"start\": 2.86, \"end\": 5.0200000000000005, \"text\": \"うんなにやってんだよこれ。\"}]'\n",
    "# decoded_json = text.decode()\n",
    "# decoded_json = decoded_json.replace('\\n', '')\n",
    "# decoded_json = json.loads(decoded_json)\n",
    "decoded_json = json.loads(text)\n",
    "decoded_json"
   ]
  },
  {
   "cell_type": "code",
   "execution_count": null,
   "metadata": {},
   "outputs": [],
   "source": [
    "[{\"start\": 2.86, \"end\": 5.0200000000000005, \"text\": \"うんなにやってんだよこれ。\"}]                                                                                                       ]"
   ]
  },
  {
   "cell_type": "code",
   "execution_count": null,
   "metadata": {},
   "outputs": [],
   "source": [
    "import json\n",
    "with open('a.txt') as f:\n",
    "    text = f.read()\n",
    "json.loads(text)"
   ]
  },
  {
   "cell_type": "code",
   "execution_count": null,
   "metadata": {},
   "outputs": [],
   "source": []
  }
 ],
 "metadata": {
  "kernelspec": {
   "display_name": "whisper-streaming-client-CWcDIRid-py3.11",
   "language": "python",
   "name": "python3"
  },
  "language_info": {
   "codemirror_mode": {
    "name": "ipython",
    "version": 3
   },
   "file_extension": ".py",
   "mimetype": "text/x-python",
   "name": "python",
   "nbconvert_exporter": "python",
   "pygments_lexer": "ipython3",
   "version": "3.11.7"
  }
 },
 "nbformat": 4,
 "nbformat_minor": 2
}
